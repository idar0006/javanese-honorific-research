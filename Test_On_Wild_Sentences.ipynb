{
 "cells": [
  {
   "cell_type": "code",
   "execution_count": null,
   "id": "447a0fc5-99db-4652-8d67-d71f3971b769",
   "metadata": {},
   "outputs": [],
   "source": [
    "import pandas as pd\n",
    "from datasets import Dataset\n",
    "from sklearn.model_selection import StratifiedKFold\n",
    "from transformers import AutoTokenizer, AutoModelForSequenceClassification, DataCollatorWithPadding, TrainingArguments, Trainer\n",
    "from sklearn.metrics import accuracy_score, precision_recall_fscore_support, confusion_matrix\n",
    "from sklearn.metrics import classification_report\n",
    "import numpy as np"
   ]
  },
  {
   "cell_type": "code",
   "execution_count": null,
   "id": "26db8fca-f5dd-4ccc-b687-573a943e545b",
   "metadata": {},
   "outputs": [],
   "source": [
    "def evaluate_on_unseen_data(model_name, unseen_data_path, label_column='label'):\n",
    "    output_dir = f'/scratch/lf93/iw/group_result/javanese-distilbert-small-imdb-classifier/final_model'\n",
    "    \n",
    "    # Load the tokenizer and model\n",
    "    tokenizer = AutoTokenizer.from_pretrained(output_dir)\n",
    "    model = AutoModelForSequenceClassification.from_pretrained(output_dir)\n",
    "    \n",
    "    # Load the unseen data\n",
    "    unseen_data = pd.read_csv(unseen_data_path, encoding='ISO-8859-1')\n",
    "    \n",
    "    # Create a dataset from the pandas dataframe\n",
    "    unseen_dataset = Dataset.from_pandas(unseen_data)\n",
    "    \n",
    "    # Tokenize the unseen dataset\n",
    "    tokenized_unseen = unseen_dataset.map(lambda x: preprocess_function(x, tokenizer), batched=True)\n",
    "    \n",
    "    # Initialize the Trainer\n",
    "    trainer = Trainer(model=model, tokenizer=tokenizer)\n",
    "    \n",
    "    # Make predictions on the tokenized unseen dataset\n",
    "    unseen_results_output = trainer.predict(tokenized_unseen)\n",
    "    y_pred = unseen_results_output.predictions.argmax(-1)\n",
    "    \n",
    "    # Extract true labels\n",
    "    y_true = unseen_data[label_column]\n",
    "    \n",
    "    # Add predictions to the original dataframe\n",
    "    unseen_data['predictions'] = y_pred\n",
    "    \n",
    "    # Generate a classification report using sklearn\n",
    "    print(\"Sklearn Classification Report:\")\n",
    "    report = classification_report(y_true, y_pred)\n",
    "    print(report)\n",
    "\n",
    "    # Generate and print a confusion matrix\n",
    "    cm = confusion_matrix(y_true, y_pred)\n",
    "    print(\"Confusion Matrix:\")\n",
    "    print(cm)\n",
    "    \n",
    "    # Optionally save the predictions to a CSV file\n",
    "    # unseen_data.to_csv(f'/scratch/lf93/iw/cv_results/{model_name}/unseen_predictions3.csv', index=False)"
   ]
  },
  {
   "cell_type": "code",
   "execution_count": null,
   "id": "3f76daad-aae6-44c2-8e43-6aaa64852377",
   "metadata": {},
   "outputs": [],
   "source": [
    "unseen_data = pd.read_csv(unseen_data_path, encoding='ISO-8859-1')"
   ]
  },
  {
   "cell_type": "code",
   "execution_count": null,
   "id": "dd1e54dd-690a-448d-8d94-dc84b053d900",
   "metadata": {},
   "outputs": [],
   "source": [
    "unseen_data"
   ]
  },
  {
   "cell_type": "code",
   "execution_count": null,
   "id": "53b67fdb-dc69-4405-ab4f-e645a4567d6c",
   "metadata": {},
   "outputs": [],
   "source": [
    "unseen_data_path = 'news.csv'\n",
    "for model_name in model_names:\n",
    "    evaluate_on_unseen_data(model_name, unseen_data_path)"
   ]
  },
  {
   "cell_type": "code",
   "execution_count": null,
   "id": "637e456f-380a-4550-9472-405936f15958",
   "metadata": {},
   "outputs": [],
   "source": [
    "unseen_data_path = 'magz.csv'\n",
    "for model_name in model_names:\n",
    "    evaluate_on_unseen_data(model_name, unseen_data_path)"
   ]
  }
 ],
 "metadata": {
  "kernelspec": {
   "display_name": "Python 3 (ipykernel)",
   "language": "python",
   "name": "python3"
  },
  "language_info": {
   "codemirror_mode": {
    "name": "ipython",
    "version": 3
   },
   "file_extension": ".py",
   "mimetype": "text/x-python",
   "name": "python",
   "nbconvert_exporter": "python",
   "pygments_lexer": "ipython3",
   "version": "3.10.14"
  }
 },
 "nbformat": 4,
 "nbformat_minor": 5
}
